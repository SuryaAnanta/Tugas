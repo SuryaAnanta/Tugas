{
 "cells": [
  {
   "cell_type": "code",
   "execution_count": 5,
   "id": "6e5ce12c",
   "metadata": {},
   "outputs": [],
   "source": [
    "nama = 'Valgan'\n",
    "pekerjaan = 'guru seni'\n",
    "institusi = 'SMP 2 Denpasar'\n",
    "hobi = 'nyanyi dan melukis'"
   ]
  },
  {
   "cell_type": "code",
   "execution_count": 6,
   "id": "8bbff57e",
   "metadata": {},
   "outputs": [
    {
     "name": "stdout",
     "output_type": "stream",
     "text": [
      "Valgan adalah seorang guru seni di SMP 2 Denpasar dan memiliki hobi nyanyi dan melukis.\n"
     ]
    }
   ],
   "source": [
    "print(f'{nama} adalah seorang {pekerjaan} di {institusi} dan memiliki hobi {hobi}.')"
   ]
  },
  {
   "cell_type": "code",
   "execution_count": 10,
   "id": "27bfe69b",
   "metadata": {},
   "outputs": [],
   "source": [
    "nama = 'Ananta'\n",
    "asal = 'Bali'\n",
    "pekerjaan = 'mahasiswa'\n",
    "universitas = 'Universitas Udayana'\n",
    "fakultas = 'MIPA'\n",
    "prodi = 'matematika'"
   ]
  },
  {
   "cell_type": "code",
   "execution_count": 12,
   "id": "52172904",
   "metadata": {},
   "outputs": [
    {
     "name": "stdout",
     "output_type": "stream",
     "text": [
      "Perkenalkan saya Ananta berasal dari Bali. Saya merupakan mahasiswa dari Universitas Udayana fakultas MIPA dari prodi matematika.\n"
     ]
    }
   ],
   "source": [
    "print(f'Perkenalkan saya {nama} berasal dari {asal}. Saya merupakan {pekerjaan} dari {universitas} fakultas {fakultas} dari prodi {prodi}.')"
   ]
  }
 ],
 "metadata": {
  "kernelspec": {
   "display_name": "Python 3 (ipykernel)",
   "language": "python",
   "name": "python3"
  },
  "language_info": {
   "codemirror_mode": {
    "name": "ipython",
    "version": 3
   },
   "file_extension": ".py",
   "mimetype": "text/x-python",
   "name": "python",
   "nbconvert_exporter": "python",
   "pygments_lexer": "ipython3",
   "version": "3.9.7"
  }
 },
 "nbformat": 4,
 "nbformat_minor": 5
}
