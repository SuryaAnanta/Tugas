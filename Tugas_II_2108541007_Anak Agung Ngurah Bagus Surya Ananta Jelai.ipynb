{
 "cells": [
  {
   "cell_type": "markdown",
   "id": "a6b30ce9",
   "metadata": {},
   "source": [
    "## 5.12 List di Python"
   ]
  },
  {
   "cell_type": "code",
   "execution_count": 1,
   "id": "eb95a763",
   "metadata": {},
   "outputs": [
    {
     "name": "stdout",
     "output_type": "stream",
     "text": [
      "['anting', 'botol', 'cangkir', 'dompet']\n"
     ]
    }
   ],
   "source": [
    "benda = ['anting', 'botol', 'cangkir', 'dompet']\n",
    "print(benda)"
   ]
  },
  {
   "cell_type": "code",
   "execution_count": 2,
   "id": "da9d91e5",
   "metadata": {},
   "outputs": [
    {
     "name": "stdout",
     "output_type": "stream",
     "text": [
      "botol\n"
     ]
    }
   ],
   "source": [
    "print(benda[1])"
   ]
  },
  {
   "cell_type": "code",
   "execution_count": 3,
   "id": "44a0036a",
   "metadata": {},
   "outputs": [
    {
     "name": "stdout",
     "output_type": "stream",
     "text": [
      "dompet\n"
     ]
    }
   ],
   "source": [
    "print(benda[-1])"
   ]
  },
  {
   "cell_type": "code",
   "execution_count": 6,
   "id": "d7607599",
   "metadata": {},
   "outputs": [
    {
     "name": "stdout",
     "output_type": "stream",
     "text": [
      "['anting', 'botol', 'cangkir', 'earphone']\n"
     ]
    }
   ],
   "source": [
    "benda [3] = 'earphone'\n",
    "print(benda)"
   ]
  },
  {
   "cell_type": "code",
   "execution_count": 8,
   "id": "78198b80",
   "metadata": {},
   "outputs": [
    {
     "name": "stdout",
     "output_type": "stream",
     "text": [
      "['cangkir']\n"
     ]
    }
   ],
   "source": [
    "print(benda[2:-1])"
   ]
  },
  {
   "cell_type": "code",
   "execution_count": 10,
   "id": "783def9a",
   "metadata": {},
   "outputs": [
    {
     "name": "stdout",
     "output_type": "stream",
     "text": [
      "['botol', 'cangkir']\n"
     ]
    }
   ],
   "source": [
    "print(benda[1:3])"
   ]
  },
  {
   "cell_type": "markdown",
   "id": "c5c49247",
   "metadata": {},
   "source": [
    "## 5.13 Metoda List"
   ]
  },
  {
   "cell_type": "code",
   "execution_count": 11,
   "id": "6a040033",
   "metadata": {},
   "outputs": [
    {
     "name": "stdout",
     "output_type": "stream",
     "text": [
      "['Jawa Tengah', 'Bali', 'Sumatra Utara', 'Kalimantan Barat', 'Aceh']\n"
     ]
    }
   ],
   "source": [
    "provinsi = ['Jawa Tengah', 'Bali', 'Sumatra Utara', 'Kalimantan Barat']\n",
    "provinsi.append('Aceh')\n",
    "print(provinsi)"
   ]
  },
  {
   "cell_type": "code",
   "execution_count": 12,
   "id": "28d3e5bb",
   "metadata": {},
   "outputs": [
    {
     "name": "stdout",
     "output_type": "stream",
     "text": [
      "['Jawa Tengah', 'Sulawesi Selatan', 'Bali', 'Sumatra Utara', 'Kalimantan Barat', 'Aceh']\n"
     ]
    }
   ],
   "source": [
    "provinsi.insert(1,'Sulawesi Selatan')\n",
    "print(provinsi)"
   ]
  },
  {
   "cell_type": "code",
   "execution_count": 13,
   "id": "137f17bc",
   "metadata": {},
   "outputs": [
    {
     "name": "stdout",
     "output_type": "stream",
     "text": [
      "['Jawa Tengah', 'Sulawesi Selatan', 'Sumatra Utara', 'Kalimantan Barat', 'Aceh']\n"
     ]
    }
   ],
   "source": [
    "provinsi.remove('Bali')\n",
    "print(provinsi)"
   ]
  },
  {
   "cell_type": "code",
   "execution_count": 14,
   "id": "7a4f69cd",
   "metadata": {},
   "outputs": [
    {
     "name": "stdout",
     "output_type": "stream",
     "text": [
      "False\n"
     ]
    }
   ],
   "source": [
    "print('Bali' in provinsi)"
   ]
  },
  {
   "cell_type": "code",
   "execution_count": 15,
   "id": "e93f30bc",
   "metadata": {},
   "outputs": [
    {
     "name": "stdout",
     "output_type": "stream",
     "text": [
      "True\n"
     ]
    }
   ],
   "source": [
    "print('Aceh' in provinsi)"
   ]
  },
  {
   "cell_type": "code",
   "execution_count": 17,
   "id": "271db1df",
   "metadata": {},
   "outputs": [
    {
     "name": "stdout",
     "output_type": "stream",
     "text": [
      "5\n"
     ]
    }
   ],
   "source": [
    "print(len(provinsi))"
   ]
  },
  {
   "cell_type": "markdown",
   "id": "dd1b6f7b",
   "metadata": {},
   "source": [
    "## 5.14 For loop"
   ]
  },
  {
   "cell_type": "code",
   "execution_count": 18,
   "id": "ef43448f",
   "metadata": {},
   "outputs": [
    {
     "name": "stdout",
     "output_type": "stream",
     "text": [
      "kucing\n",
      "anjing\n",
      "burung\n",
      "ikan\n",
      "kelinci\n"
     ]
    }
   ],
   "source": [
    "hewan = [\"kucing\",\"anjing\",\"burung\",\"ikan\",\"kelinci\"]\n",
    "for jenis in hewan:\n",
    "    print(jenis)"
   ]
  },
  {
   "cell_type": "code",
   "execution_count": 19,
   "id": "9b9cf381",
   "metadata": {},
   "outputs": [
    {
     "name": "stdout",
     "output_type": "stream",
     "text": [
      "kucing\n",
      "anjing\n",
      "burung\n",
      "ikan\n",
      "kelinci\n"
     ]
    }
   ],
   "source": [
    "a=0\n",
    "while a<len(hewan):\n",
    "    print(hewan[a])\n",
    "    a+=1"
   ]
  },
  {
   "cell_type": "code",
   "execution_count": 20,
   "id": "d9f6bcd0",
   "metadata": {},
   "outputs": [
    {
     "name": "stdout",
     "output_type": "stream",
     "text": [
      "kucing\n",
      "ikan\n"
     ]
    }
   ],
   "source": [
    "a=0\n",
    "while a<len(hewan):\n",
    "    print(hewan[a])\n",
    "    a+=3"
   ]
  },
  {
   "cell_type": "markdown",
   "id": "eca825ff",
   "metadata": {},
   "source": [
    "## 5.15 Fungsi range"
   ]
  },
  {
   "cell_type": "code",
   "execution_count": 21,
   "id": "ec3d9d76",
   "metadata": {},
   "outputs": [
    {
     "name": "stdout",
     "output_type": "stream",
     "text": [
      "range(0, 10)\n"
     ]
    }
   ],
   "source": [
    "angka=range(10)\n",
    "print(angka)"
   ]
  },
  {
   "cell_type": "code",
   "execution_count": 22,
   "id": "828b9fbb",
   "metadata": {},
   "outputs": [
    {
     "name": "stdout",
     "output_type": "stream",
     "text": [
      "0\n",
      "1\n",
      "2\n",
      "3\n",
      "4\n",
      "5\n",
      "6\n",
      "7\n",
      "8\n",
      "9\n"
     ]
    }
   ],
   "source": [
    "for isi in angka:\n",
    "    print(isi)"
   ]
  },
  {
   "cell_type": "code",
   "execution_count": 25,
   "id": "a0d96a09",
   "metadata": {},
   "outputs": [
    {
     "name": "stdout",
     "output_type": "stream",
     "text": [
      "0\n",
      "8\n",
      "16\n",
      "24\n"
     ]
    }
   ],
   "source": [
    "for isi in range(0,32,8):\n",
    "    print(isi)"
   ]
  },
  {
   "cell_type": "code",
   "execution_count": 26,
   "id": "8cbaeefb",
   "metadata": {},
   "outputs": [
    {
     "name": "stdout",
     "output_type": "stream",
     "text": [
      "-5\n",
      "-4\n",
      "-3\n",
      "-2\n",
      "-1\n",
      "0\n"
     ]
    }
   ],
   "source": [
    "for isi in range(-5,1):\n",
    "    print(isi)"
   ]
  },
  {
   "cell_type": "markdown",
   "id": "d0cc6ad4",
   "metadata": {},
   "source": [
    "## Latihan"
   ]
  },
  {
   "cell_type": "code",
   "execution_count": 27,
   "id": "c1017156",
   "metadata": {},
   "outputs": [
    {
     "name": "stdout",
     "output_type": "stream",
     "text": [
      "8\n"
     ]
    }
   ],
   "source": [
    "data = [2,4,6,8,6,4,2]\n",
    "terbesar = data[0]\n",
    "for i in range(len(data)):\n",
    "    if data[i] > terbesar:\n",
    "        terbesar = data[i]\n",
    "print(terbesar)"
   ]
  },
  {
   "cell_type": "code",
   "execution_count": 28,
   "id": "75c51d5f",
   "metadata": {},
   "outputs": [
    {
     "name": "stdout",
     "output_type": "stream",
     "text": [
      "8\n"
     ]
    }
   ],
   "source": [
    "data = [2,4,6,8,6,4,2]\n",
    "terbesar = data[0]\n",
    "for angka in data:\n",
    "    if angka > terbesar:\n",
    "        terbesar = angka\n",
    "print(terbesar)"
   ]
  },
  {
   "cell_type": "code",
   "execution_count": 30,
   "id": "160c0f7c",
   "metadata": {},
   "outputs": [
    {
     "name": "stdout",
     "output_type": "stream",
     "text": [
      "[2, 5, 1, 3, 4, 7, 8, 6, 9, 10, 19, 23]\n"
     ]
    }
   ],
   "source": [
    "angka = [2,5,1,3,4,7,8,1,2,3,1,6,9,10,19,23]\n",
    "angka_unik = []\n",
    "for anggota in angka:\n",
    "    if anggota not in angka_unik:\n",
    "        angka_unik.append(anggota)\n",
    "print(angka_unik)"
   ]
  },
  {
   "cell_type": "markdown",
   "id": "80a87e9f",
   "metadata": {},
   "source": [
    "## 5.16 List 2 Dimensi"
   ]
  },
  {
   "cell_type": "code",
   "execution_count": 33,
   "id": "84dc8715",
   "metadata": {},
   "outputs": [
    {
     "name": "stdout",
     "output_type": "stream",
     "text": [
      "[[2, 4, 6, 8], [1, 3, 5, 7], [10, 15, 20, 25]]\n"
     ]
    }
   ],
   "source": [
    "matrik = [\n",
    "    [2,4,6,8],\n",
    "    [1,3,5,7],\n",
    "    [10,15,20,25]\n",
    "]\n",
    "print(matrik)"
   ]
  },
  {
   "cell_type": "code",
   "execution_count": 34,
   "id": "0098ec36",
   "metadata": {},
   "outputs": [
    {
     "data": {
      "text/plain": [
       "5"
      ]
     },
     "execution_count": 34,
     "metadata": {},
     "output_type": "execute_result"
    }
   ],
   "source": [
    "matrik[1][2]"
   ]
  },
  {
   "cell_type": "code",
   "execution_count": 36,
   "id": "9fa3417d",
   "metadata": {},
   "outputs": [
    {
     "data": {
      "text/plain": [
       "[2, 4, 6, 8]"
      ]
     },
     "execution_count": 36,
     "metadata": {},
     "output_type": "execute_result"
    }
   ],
   "source": [
    "matrik[0]"
   ]
  },
  {
   "cell_type": "code",
   "execution_count": 37,
   "id": "506c28d4",
   "metadata": {},
   "outputs": [
    {
     "data": {
      "text/plain": [
       "6"
      ]
     },
     "execution_count": 37,
     "metadata": {},
     "output_type": "execute_result"
    }
   ],
   "source": [
    "matrik[0][2]"
   ]
  },
  {
   "cell_type": "code",
   "execution_count": 38,
   "id": "546b471b",
   "metadata": {},
   "outputs": [
    {
     "name": "stdout",
     "output_type": "stream",
     "text": [
      "25\n"
     ]
    }
   ],
   "source": [
    "matrik[0][1]=25\n",
    "print(matrik[0][1])"
   ]
  },
  {
   "cell_type": "code",
   "execution_count": 39,
   "id": "489826c9",
   "metadata": {},
   "outputs": [
    {
     "data": {
      "text/plain": [
       "[[2, 25, 6, 8], [1, 3, 5, 7], [10, 15, 20, 25]]"
      ]
     },
     "execution_count": 39,
     "metadata": {},
     "output_type": "execute_result"
    }
   ],
   "source": [
    "matrik"
   ]
  },
  {
   "cell_type": "code",
   "execution_count": 40,
   "id": "62f865cc",
   "metadata": {},
   "outputs": [
    {
     "name": "stdout",
     "output_type": "stream",
     "text": [
      "[2, 25, 6, 8]\n",
      "2\n",
      "25\n",
      "6\n",
      "8\n",
      "[1, 3, 5, 7]\n",
      "1\n",
      "3\n",
      "5\n",
      "7\n",
      "[10, 15, 20, 25]\n",
      "10\n",
      "15\n",
      "20\n",
      "25\n"
     ]
    }
   ],
   "source": [
    "for baris in matrik:\n",
    "    print(baris)\n",
    "    for kolom in baris:\n",
    "        print(kolom)"
   ]
  },
  {
   "cell_type": "markdown",
   "id": "58c7ae1f",
   "metadata": {},
   "source": [
    "## 5.17 Tuples"
   ]
  },
  {
   "cell_type": "code",
   "execution_count": 1,
   "id": "1cef2504",
   "metadata": {},
   "outputs": [
    {
     "name": "stdout",
     "output_type": "stream",
     "text": [
      "(-5, -4, -3, -2, -1)\n"
     ]
    }
   ],
   "source": [
    "angka = (-5,-4,-3,-2,-1)\n",
    "print(angka)"
   ]
  },
  {
   "cell_type": "code",
   "execution_count": 2,
   "id": "8148fd67",
   "metadata": {},
   "outputs": [
    {
     "name": "stdout",
     "output_type": "stream",
     "text": [
      "-5\n"
     ]
    }
   ],
   "source": [
    "print(angka[0])"
   ]
  },
  {
   "cell_type": "code",
   "execution_count": 4,
   "id": "388b4819",
   "metadata": {},
   "outputs": [
    {
     "name": "stdout",
     "output_type": "stream",
     "text": [
      "(-4, -3, -2, -1)\n"
     ]
    }
   ],
   "source": [
    "print(angka[1:5])"
   ]
  },
  {
   "cell_type": "code",
   "execution_count": 5,
   "id": "f0fcfb1a",
   "metadata": {},
   "outputs": [
    {
     "name": "stdout",
     "output_type": "stream",
     "text": [
      "-4\n",
      "-3\n",
      "-2\n",
      "-1\n"
     ]
    }
   ],
   "source": [
    "for isi in angka[1:5]:\n",
    "    print(isi)"
   ]
  },
  {
   "cell_type": "code",
   "execution_count": 16,
   "id": "3fb8f9bb",
   "metadata": {},
   "outputs": [
    {
     "ename": "AttributeError",
     "evalue": "'dict' object has no attribute 'append'",
     "output_type": "error",
     "traceback": [
      "\u001b[1;31m---------------------------------------------------------------------------\u001b[0m",
      "\u001b[1;31mAttributeError\u001b[0m                            Traceback (most recent call last)",
      "\u001b[1;32m~\\AppData\\Local\\Temp/ipykernel_808/1234393524.py\u001b[0m in \u001b[0;36m<module>\u001b[1;34m\u001b[0m\n\u001b[1;32m----> 1\u001b[1;33m \u001b[0mangka\u001b[0m\u001b[1;33m.\u001b[0m\u001b[0mappend\u001b[0m\u001b[1;33m(\u001b[0m\u001b[1;33m-\u001b[0m\u001b[1;36m2\u001b[0m\u001b[1;33m)\u001b[0m\u001b[1;33m\u001b[0m\u001b[1;33m\u001b[0m\u001b[0m\n\u001b[0m\u001b[0;32m      2\u001b[0m \u001b[0mprint\u001b[0m\u001b[1;33m(\u001b[0m\u001b[0mangka\u001b[0m\u001b[1;33m)\u001b[0m\u001b[1;33m\u001b[0m\u001b[1;33m\u001b[0m\u001b[0m\n",
      "\u001b[1;31mAttributeError\u001b[0m: 'dict' object has no attribute 'append'"
     ]
    }
   ],
   "source": [
    "angka.append(-2)\n",
    "print(angka)"
   ]
  },
  {
   "cell_type": "code",
   "execution_count": 11,
   "id": "10346693",
   "metadata": {},
   "outputs": [
    {
     "ename": "AttributeError",
     "evalue": "'tuple' object has no attribute 'remove'",
     "output_type": "error",
     "traceback": [
      "\u001b[1;31m---------------------------------------------------------------------------\u001b[0m",
      "\u001b[1;31mAttributeError\u001b[0m                            Traceback (most recent call last)",
      "\u001b[1;32m~\\AppData\\Local\\Temp/ipykernel_12676/3952688358.py\u001b[0m in \u001b[0;36m<module>\u001b[1;34m\u001b[0m\n\u001b[1;32m----> 1\u001b[1;33m \u001b[0mangka\u001b[0m\u001b[1;33m.\u001b[0m\u001b[0mremove\u001b[0m\u001b[1;33m(\u001b[0m\u001b[1;33m-\u001b[0m\u001b[1;36m1\u001b[0m\u001b[1;33m)\u001b[0m\u001b[1;33m\u001b[0m\u001b[1;33m\u001b[0m\u001b[0m\n\u001b[0m\u001b[0;32m      2\u001b[0m \u001b[0mprint\u001b[0m\u001b[1;33m(\u001b[0m\u001b[0mangka\u001b[0m\u001b[1;33m)\u001b[0m\u001b[1;33m\u001b[0m\u001b[1;33m\u001b[0m\u001b[0m\n",
      "\u001b[1;31mAttributeError\u001b[0m: 'tuple' object has no attribute 'remove'"
     ]
    }
   ],
   "source": [
    "angka.remove(-1)\n",
    "print(angka)"
   ]
  },
  {
   "cell_type": "code",
   "execution_count": 12,
   "id": "d30f117b",
   "metadata": {},
   "outputs": [
    {
     "data": {
      "text/plain": [
       "0"
      ]
     },
     "execution_count": 12,
     "metadata": {},
     "output_type": "execute_result"
    }
   ],
   "source": [
    "angka.count(3)"
   ]
  },
  {
   "cell_type": "code",
   "execution_count": 16,
   "id": "6766ea8a",
   "metadata": {},
   "outputs": [
    {
     "data": {
      "text/plain": [
       "4"
      ]
     },
     "execution_count": 16,
     "metadata": {},
     "output_type": "execute_result"
    }
   ],
   "source": [
    "angka.index(-1)"
   ]
  },
  {
   "cell_type": "markdown",
   "id": "fef75523",
   "metadata": {},
   "source": [
    "## 5.18 Dictionaries"
   ]
  },
  {
   "cell_type": "code",
   "execution_count": 6,
   "id": "084db7f5",
   "metadata": {},
   "outputs": [],
   "source": [
    "data_orang = {\n",
    "    \"nama\" : \"Wayan Gana\",\n",
    "    \"umur\" : 20,\n",
    "    \"apakah_single\" : True\n",
    "}"
   ]
  },
  {
   "cell_type": "code",
   "execution_count": 7,
   "id": "ec939aa3",
   "metadata": {},
   "outputs": [
    {
     "name": "stdout",
     "output_type": "stream",
     "text": [
      "Wayan Gana\n"
     ]
    }
   ],
   "source": [
    "print(data_orang[\"nama\"])"
   ]
  },
  {
   "cell_type": "code",
   "execution_count": 8,
   "id": "8f8a7b5c",
   "metadata": {},
   "outputs": [
    {
     "ename": "KeyError",
     "evalue": "'Nama'",
     "output_type": "error",
     "traceback": [
      "\u001b[1;31m---------------------------------------------------------------------------\u001b[0m",
      "\u001b[1;31mKeyError\u001b[0m                                  Traceback (most recent call last)",
      "\u001b[1;32m~\\AppData\\Local\\Temp/ipykernel_808/307836628.py\u001b[0m in \u001b[0;36m<module>\u001b[1;34m\u001b[0m\n\u001b[1;32m----> 1\u001b[1;33m \u001b[0mprint\u001b[0m\u001b[1;33m(\u001b[0m\u001b[0mdata_orang\u001b[0m\u001b[1;33m[\u001b[0m\u001b[1;34m\"Nama\"\u001b[0m\u001b[1;33m]\u001b[0m\u001b[1;33m)\u001b[0m\u001b[1;33m\u001b[0m\u001b[1;33m\u001b[0m\u001b[0m\n\u001b[0m",
      "\u001b[1;31mKeyError\u001b[0m: 'Nama'"
     ]
    }
   ],
   "source": [
    "print(data_orang[\"Nama\"])"
   ]
  },
  {
   "cell_type": "code",
   "execution_count": 9,
   "id": "eb340c3f",
   "metadata": {},
   "outputs": [
    {
     "name": "stdout",
     "output_type": "stream",
     "text": [
      "Wayan Gana\n"
     ]
    }
   ],
   "source": [
    "print(data_orang.get(\"nama\"))"
   ]
  },
  {
   "cell_type": "code",
   "execution_count": 10,
   "id": "943ba8fe",
   "metadata": {},
   "outputs": [
    {
     "name": "stdout",
     "output_type": "stream",
     "text": [
      "None\n"
     ]
    }
   ],
   "source": [
    "print(data_orang.get(\"Nama\"))"
   ]
  },
  {
   "cell_type": "code",
   "execution_count": 11,
   "id": "fd6a81db",
   "metadata": {},
   "outputs": [
    {
     "name": "stdout",
     "output_type": "stream",
     "text": [
      "None\n"
     ]
    }
   ],
   "source": [
    "print(data_orang.get(\"tempat_lahir\"))"
   ]
  },
  {
   "cell_type": "code",
   "execution_count": 12,
   "id": "cf43d557",
   "metadata": {},
   "outputs": [
    {
     "name": "stdout",
     "output_type": "stream",
     "text": [
      "Denpasar\n"
     ]
    }
   ],
   "source": [
    "print(data_orang.get(\"tempat_lahir\", \"Denpasar\"))"
   ]
  },
  {
   "cell_type": "code",
   "execution_count": 13,
   "id": "5f34ac70",
   "metadata": {},
   "outputs": [],
   "source": [
    "data_orang['nomor_HP'] = '081324581783'"
   ]
  },
  {
   "cell_type": "code",
   "execution_count": 14,
   "id": "4dda7ff7",
   "metadata": {},
   "outputs": [
    {
     "name": "stdout",
     "output_type": "stream",
     "text": [
      "081324581783\n"
     ]
    }
   ],
   "source": [
    "print(data_orang['nomor_HP'])"
   ]
  },
  {
   "cell_type": "code",
   "execution_count": 15,
   "id": "66326316",
   "metadata": {},
   "outputs": [],
   "source": [
    "angka = {\n",
    "    \"0\" : \"nol\",\n",
    "    \"1\" : \"satu\",\n",
    "    \"2\" : \"dua\",\n",
    "    \"3\" : \"tiga\",\n",
    "    \"4\" : \"empat\",\n",
    "    \"5\" : \"lima\",\n",
    "    \"6\" : \"enam\",\n",
    "    \"7\" : \"tujuh\",\n",
    "    \"8\" : \"delapan\",\n",
    "    \"9\" : \"sembilan\"\n",
    "}"
   ]
  },
  {
   "cell_type": "code",
   "execution_count": 21,
   "id": "6d8e29eb",
   "metadata": {},
   "outputs": [
    {
     "name": "stdout",
     "output_type": "stream",
     "text": [
      "Masukkan nomor HP Anda 081236457\n",
      "nol delapan satu dua tiga enam empat lima tujuh \n"
     ]
    }
   ],
   "source": [
    "angka = {\n",
    "    \"0\" : \"nol\",\n",
    "    \"1\" : \"satu\",\n",
    "    \"2\" : \"dua\",\n",
    "    \"3\" : \"tiga\",\n",
    "    \"4\" : \"empat\",\n",
    "    \"5\" : \"lima\",\n",
    "    \"6\" : \"enam\",\n",
    "    \"7\" : \"tujuh\",\n",
    "    \"8\" : \"delapan\",\n",
    "    \"9\" : \"sembilan\"\n",
    "}\n",
    "nomor_HP = input(\"Masukkan nomor HP Anda \")\n",
    "nomor_angka = \"\"\n",
    "for isi in nomor_HP:\n",
    "    nomor_angka += angka.get(isi) + \" \"\n",
    "print(nomor_angka)"
   ]
  },
  {
   "cell_type": "markdown",
   "id": "add9c03f",
   "metadata": {},
   "source": [
    "## 5.19 Fungsi dalam Python"
   ]
  },
  {
   "cell_type": "code",
   "execution_count": 2,
   "id": "27fc21c9",
   "metadata": {},
   "outputs": [],
   "source": [
    "def full_name(nama_depan,nama_tengah,nama_belakang):\n",
    "    print(f\"Nama lengkapnya adalah {nama_depan} {nama_tengah} {nama_belakang}\")"
   ]
  },
  {
   "cell_type": "code",
   "execution_count": 4,
   "id": "eb5eeb56",
   "metadata": {},
   "outputs": [
    {
     "name": "stdout",
     "output_type": "stream",
     "text": [
      "Nama depannya adalah Surya\n",
      "Nama tengahnya adalah Ananta\n",
      "Nama belakangnya adalah Jelai\n",
      "Nama lengkapnya adalah Surya Ananta Jelai\n"
     ]
    }
   ],
   "source": [
    "nama_depan = input(\"Nama depannya adalah \")\n",
    "nama_tengah = input(\"Nama tengahnya adalah \")\n",
    "nama_belakang = input(\"Nama belakangnya adalah \")\n",
    "full_name(nama_depan,nama_tengah,nama_belakang)"
   ]
  },
  {
   "cell_type": "markdown",
   "id": "58e29724",
   "metadata": {},
   "source": [
    "## 5.19.1 Tugas Fungsi pada Python"
   ]
  },
  {
   "cell_type": "code",
   "execution_count": 17,
   "id": "193b394a",
   "metadata": {},
   "outputs": [],
   "source": [
    "def waktu_sampai(jarak,kecepatan):\n",
    "    waktu = jarak/kecepatan\n",
    "    print(waktu)"
   ]
  },
  {
   "cell_type": "code",
   "execution_count": 18,
   "id": "7b392995",
   "metadata": {},
   "outputs": [],
   "source": [
    "def waktu_tempuh(jarak,kecepatan):\n",
    "    waktu = jarak/kecepatan\n",
    "    return waktu"
   ]
  },
  {
   "cell_type": "code",
   "execution_count": 19,
   "id": "0e51fb2f",
   "metadata": {},
   "outputs": [
    {
     "name": "stdout",
     "output_type": "stream",
     "text": [
      "2.0\n"
     ]
    }
   ],
   "source": [
    "waktu_sampai(50,25)"
   ]
  },
  {
   "cell_type": "code",
   "execution_count": 20,
   "id": "f0b50798",
   "metadata": {},
   "outputs": [
    {
     "data": {
      "text/plain": [
       "2.0"
      ]
     },
     "execution_count": 20,
     "metadata": {},
     "output_type": "execute_result"
    }
   ],
   "source": [
    "waktu_tempuh(50,25)"
   ]
  },
  {
   "cell_type": "code",
   "execution_count": 21,
   "id": "7e354134",
   "metadata": {},
   "outputs": [
    {
     "name": "stdout",
     "output_type": "stream",
     "text": [
      "2.0\n",
      "None\n"
     ]
    }
   ],
   "source": [
    "a = waktu_sampai(50,25)\n",
    "print(a)"
   ]
  },
  {
   "cell_type": "code",
   "execution_count": 22,
   "id": "8397c464",
   "metadata": {},
   "outputs": [
    {
     "name": "stdout",
     "output_type": "stream",
     "text": [
      "2.0\n"
     ]
    }
   ],
   "source": [
    "b = waktu_tempuh(50,25)\n",
    "print(b)"
   ]
  },
  {
   "cell_type": "code",
   "execution_count": 23,
   "id": "09b519eb",
   "metadata": {},
   "outputs": [],
   "source": [
    "import numpy as np"
   ]
  },
  {
   "cell_type": "code",
   "execution_count": 24,
   "id": "89925389",
   "metadata": {},
   "outputs": [],
   "source": [
    "def luas_segitiga(alas,tinggi):\n",
    "    luas = (1/2)*alas*tinggi\n",
    "    return luas\n",
    "def luas_lingkaran(jari_jari):\n",
    "    luas = np.pi*(jari_jari**2)\n",
    "    return luas\n",
    "def luas_persegi(sisi):\n",
    "    luas = sisi**2\n",
    "    return luas\n",
    "def luas_persegi_panjang(panjang,lebar):\n",
    "    luas = panjang*lebar\n",
    "    return luas\n",
    "def luas_trapesium_siku_siku(alas,tinggi):\n",
    "    luas = (1/2)*alas*tinggi\n",
    "    return luas"
   ]
  },
  {
   "cell_type": "code",
   "execution_count": 25,
   "id": "36e46e56",
   "metadata": {},
   "outputs": [
    {
     "name": "stdout",
     "output_type": "stream",
     "text": [
      "Tulis jenis bidangnya PERSEGI PANJANG\n",
      "Berapakah panjangnya? 12\n",
      "Berapakah lebarnya? 7\n",
      "Luas PERSEGI PANJANG adalah 84.0\n"
     ]
    }
   ],
   "source": [
    "jenis_bidang = input(\"Tulis jenis bidangnya \")\n",
    "if jenis_bidang.upper() == 'SEGITIGA':\n",
    "    alas = float(input('Berapakah panjang alasnya? '))\n",
    "    tinggi = float(input('Berapakah panjang tinggi? '))\n",
    "    luas = luas_segitiga(alas,tinggi)\n",
    "    print(f'Luas {jenis_bidang} adalah {luas}')\n",
    "elif jenis_bidang.upper() == 'LINGKARAN':\n",
    "    jari_jari = float(input('Berapakah jari-jarinya? '))\n",
    "    luas = luas_lingkaran(jari_jari)\n",
    "    print(f'Luas {jenis_bidang} adalah {luas}')\n",
    "elif jenis_bidang.upper() == 'PERSEGI':\n",
    "    sisi = float(input('Berapakah panjang sisinya? '))\n",
    "    luas = luas_persegi(sisi)\n",
    "    print(f'Luas {jenis_bidang} adalah {luas}')\n",
    "elif jenis_bidang.upper() == 'PERSEGI PANJANG':\n",
    "    panjang = float(input('Berapakah panjangnya? '))\n",
    "    lebar = float(input('Berapakah lebarnya? '))\n",
    "    luas = luas_persegi_panjang(panjang,lebar)\n",
    "    print(f'Luas {jenis_bidang} adalah {luas}')\n",
    "elif jenis_bidang.upper() == 'TRAPESIUM SIKU-SIKU':\n",
    "    alas = float(input('Berapakah alasnya? '))\n",
    "    tinggi = float(imput('Berapakah tingginya? '))\n",
    "    luas = luas_trapesium_siku_siku(alas,tinggi)\n",
    "    print(f'Luas {jenis_bidang} adalah {luas}')\n",
    "else:\n",
    "    print(f'Maaf bidang {jenis_bidang} yang Anda masukkan tidak ada.')\n",
    "    print(f'Pilihan cuma SEGITIGA, LINGKARAN, PERSEGI, PERSEGI PANJANG, dan TRAPESIUM SIKU-SIKU.')\n",
    "    print('Terimakasih')\n",
    "          "
   ]
  },
  {
   "cell_type": "code",
   "execution_count": null,
   "id": "e18fccea",
   "metadata": {},
   "outputs": [],
   "source": []
  }
 ],
 "metadata": {
  "kernelspec": {
   "display_name": "Python 3 (ipykernel)",
   "language": "python",
   "name": "python3"
  },
  "language_info": {
   "codemirror_mode": {
    "name": "ipython",
    "version": 3
   },
   "file_extension": ".py",
   "mimetype": "text/x-python",
   "name": "python",
   "nbconvert_exporter": "python",
   "pygments_lexer": "ipython3",
   "version": "3.9.7"
  }
 },
 "nbformat": 4,
 "nbformat_minor": 5
}
