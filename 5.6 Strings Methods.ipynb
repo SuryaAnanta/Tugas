{
 "cells": [
  {
   "cell_type": "code",
   "execution_count": 1,
   "id": "7b6ad6ac",
   "metadata": {},
   "outputs": [],
   "source": [
    "judul = \"Waktu Cepat Berlalu\""
   ]
  },
  {
   "cell_type": "code",
   "execution_count": 2,
   "id": "594dd190",
   "metadata": {},
   "outputs": [
    {
     "name": "stdout",
     "output_type": "stream",
     "text": [
      "19\n"
     ]
    }
   ],
   "source": [
    "print(len(judul))"
   ]
  },
  {
   "cell_type": "code",
   "execution_count": 3,
   "id": "f05de976",
   "metadata": {},
   "outputs": [
    {
     "data": {
      "text/plain": [
       "'WAKTU CEPAT BERLALU'"
      ]
     },
     "execution_count": 3,
     "metadata": {},
     "output_type": "execute_result"
    }
   ],
   "source": [
    "judul.upper()"
   ]
  },
  {
   "cell_type": "code",
   "execution_count": 4,
   "id": "871f9219",
   "metadata": {},
   "outputs": [
    {
     "data": {
      "text/plain": [
       "'waktu cepat berlalu'"
      ]
     },
     "execution_count": 4,
     "metadata": {},
     "output_type": "execute_result"
    }
   ],
   "source": [
    "judul.lower()"
   ]
  },
  {
   "cell_type": "code",
   "execution_count": 5,
   "id": "f9a7a3a0",
   "metadata": {},
   "outputs": [
    {
     "data": {
      "text/plain": [
       "-1"
      ]
     },
     "execution_count": 5,
     "metadata": {},
     "output_type": "execute_result"
    }
   ],
   "source": [
    "judul.find('cepat')"
   ]
  },
  {
   "cell_type": "code",
   "execution_count": 6,
   "id": "5c0e804c",
   "metadata": {},
   "outputs": [
    {
     "data": {
      "text/plain": [
       "12"
      ]
     },
     "execution_count": 6,
     "metadata": {},
     "output_type": "execute_result"
    }
   ],
   "source": [
    "judul.find(\"Berlalu\")"
   ]
  },
  {
   "cell_type": "code",
   "execution_count": 7,
   "id": "dec4ae6f",
   "metadata": {},
   "outputs": [
    {
     "data": {
      "text/plain": [
       "'Masa Cepat Berlalu'"
      ]
     },
     "execution_count": 7,
     "metadata": {},
     "output_type": "execute_result"
    }
   ],
   "source": [
    "judul.replace('Waktu', 'Masa')"
   ]
  },
  {
   "cell_type": "code",
   "execution_count": 9,
   "id": "c6310d01",
   "metadata": {},
   "outputs": [
    {
     "name": "stdout",
     "output_type": "stream",
     "text": [
      "True\n"
     ]
    }
   ],
   "source": [
    "print('Cepat' in judul)"
   ]
  },
  {
   "cell_type": "code",
   "execution_count": 10,
   "id": "a0d26475",
   "metadata": {},
   "outputs": [
    {
     "name": "stdout",
     "output_type": "stream",
     "text": [
      "False\n"
     ]
    }
   ],
   "source": [
    "print(\"Masa\" in judul)"
   ]
  }
 ],
 "metadata": {
  "kernelspec": {
   "display_name": "Python 3 (ipykernel)",
   "language": "python",
   "name": "python3"
  },
  "language_info": {
   "codemirror_mode": {
    "name": "ipython",
    "version": 3
   },
   "file_extension": ".py",
   "mimetype": "text/x-python",
   "name": "python",
   "nbconvert_exporter": "python",
   "pygments_lexer": "ipython3",
   "version": "3.9.7"
  }
 },
 "nbformat": 4,
 "nbformat_minor": 5
}
