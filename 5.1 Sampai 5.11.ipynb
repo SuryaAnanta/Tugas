{
 "cells": [
  {
   "cell_type": "markdown",
   "id": "8d4f1360",
   "metadata": {},
   "source": [
    "5.1 Print"
   ]
  },
  {
   "cell_type": "code",
   "execution_count": 1,
   "id": "1a449da5",
   "metadata": {},
   "outputs": [
    {
     "name": "stdout",
     "output_type": "stream",
     "text": [
      "Saya sedang belajar Algoritma\n"
     ]
    }
   ],
   "source": [
    "print(\"Saya sedang belajar Algoritma\")"
   ]
  },
  {
   "cell_type": "code",
   "execution_count": 2,
   "id": "25ead2e6",
   "metadata": {},
   "outputs": [
    {
     "name": "stdout",
     "output_type": "stream",
     "text": [
      "Saya sedang belajar jupyter notebook\n"
     ]
    }
   ],
   "source": [
    "print('Saya sedang belajar jupyter notebook')"
   ]
  },
  {
   "cell_type": "code",
   "execution_count": 3,
   "id": "69857cad",
   "metadata": {},
   "outputs": [
    {
     "name": "stdout",
     "output_type": "stream",
     "text": [
      "I can't speak japanese\n"
     ]
    }
   ],
   "source": [
    "print(\"I can't speak japanese\")"
   ]
  },
  {
   "cell_type": "code",
   "execution_count": 4,
   "id": "b380eff0",
   "metadata": {},
   "outputs": [
    {
     "name": "stdout",
     "output_type": "stream",
     "text": [
      "Ananta berkata, \"Kamu sedang apa ta?\"\n"
     ]
    }
   ],
   "source": [
    "print('Ananta berkata, \"Kamu sedang apa ta?\"')"
   ]
  },
  {
   "cell_type": "code",
   "execution_count": 5,
   "id": "b4677f9a",
   "metadata": {},
   "outputs": [
    {
     "name": "stdout",
     "output_type": "stream",
     "text": [
      "7\n",
      "20000\n",
      "5000\n"
     ]
    }
   ],
   "source": [
    "mahasiswa = 7\n",
    "uang_di_dompet = 20000\n",
    "uang_di_saku = 5000\n",
    "print(mahasiswa)\n",
    "print(uang_di_dompet)\n",
    "print(uang_di_saku)"
   ]
  },
  {
   "cell_type": "code",
   "execution_count": 6,
   "id": "d6fb706e",
   "metadata": {},
   "outputs": [
    {
     "name": "stdout",
     "output_type": "stream",
     "text": [
      "Surya Ananta Jelai\n"
     ]
    }
   ],
   "source": [
    "nama_depan = \"Surya \"\n",
    "nama_tengah = \"Ananta \"\n",
    "nama_belakang = \"Jelai\"\n",
    "print(nama_depan + nama_tengah + nama_belakang)"
   ]
  },
  {
   "cell_type": "markdown",
   "id": "234d69a5",
   "metadata": {},
   "source": [
    "5.2 Input"
   ]
  },
  {
   "cell_type": "code",
   "execution_count": 7,
   "id": "cc4db26f",
   "metadata": {},
   "outputs": [
    {
     "name": "stdout",
     "output_type": "stream",
     "text": [
      "Siapakah nama Anda? Ananta\n",
      "Apa kegiatan yang Anda lakukan sekarang? belajar\n",
      "Semangat terus belajar nya, Ananta!\n"
     ]
    }
   ],
   "source": [
    "nama = input(\"Siapakah nama Anda? \")\n",
    "kegiatan = input(\"Apa kegiatan yang Anda lakukan sekarang? \")\n",
    "print(\"Semangat terus \" + kegiatan + \" nya, \" + nama + \"!\")"
   ]
  },
  {
   "cell_type": "code",
   "execution_count": 8,
   "id": "88a3429e",
   "metadata": {},
   "outputs": [
    {
     "name": "stdout",
     "output_type": "stream",
     "text": [
      "Berapa umur Anda sekarang? 18\n",
      "Siapa nama Anda? Ananta\n",
      "Selamat Ulang Tahun Ananta yang ke 18, sehat selalu ya\n"
     ]
    }
   ],
   "source": [
    "umur = input(\"Berapa umur Anda sekarang? \")\n",
    "nama = input(\"Siapa nama Anda? \")\n",
    "print(\"Selamat Ulang Tahun \" + nama + \" yang ke \" + umur + \", sehat selalu ya\")"
   ]
  },
  {
   "cell_type": "markdown",
   "id": "733fde29",
   "metadata": {},
   "source": [
    "5.3 Tipe Data pada Python"
   ]
  },
  {
   "cell_type": "code",
   "execution_count": 9,
   "id": "ae600b9b",
   "metadata": {},
   "outputs": [
    {
     "name": "stdout",
     "output_type": "stream",
     "text": [
      "Berapakah jumlah uang di saku Anda? 10000\n",
      "Berapakah jumlah uang di dompet Anda? 15000\n",
      "Berapakah jumlah uang di bank? 50000\n",
      "Total uang Anda adalah Rp75000\n"
     ]
    }
   ],
   "source": [
    "uang_di_saku = input(\"Berapakah jumlah uang di saku Anda? \")\n",
    "uang_di_dompet = input(\"Berapakah jumlah uang di dompet Anda? \")\n",
    "uang_di_bank = input(\"Berapakah jumlah uang di bank? \")\n",
    "total_uang = int(uang_di_saku) + int(uang_di_dompet) + int(uang_di_bank)\n",
    "print(\"Total uang Anda adalah Rp\" + str(total_uang))"
   ]
  },
  {
   "cell_type": "code",
   "execution_count": 10,
   "id": "b190ef19",
   "metadata": {},
   "outputs": [
    {
     "data": {
      "text/plain": [
       "str"
      ]
     },
     "execution_count": 10,
     "metadata": {},
     "output_type": "execute_result"
    }
   ],
   "source": [
    "type(uang_di_saku)"
   ]
  },
  {
   "cell_type": "code",
   "execution_count": 11,
   "id": "e34c1d90",
   "metadata": {},
   "outputs": [
    {
     "data": {
      "text/plain": [
       "str"
      ]
     },
     "execution_count": 11,
     "metadata": {},
     "output_type": "execute_result"
    }
   ],
   "source": [
    "type(uang_di_dompet)"
   ]
  },
  {
   "cell_type": "code",
   "execution_count": 12,
   "id": "059373ac",
   "metadata": {},
   "outputs": [
    {
     "data": {
      "text/plain": [
       "str"
      ]
     },
     "execution_count": 12,
     "metadata": {},
     "output_type": "execute_result"
    }
   ],
   "source": [
    "type(uang_di_bank)"
   ]
  },
  {
   "cell_type": "code",
   "execution_count": 13,
   "id": "debabdfe",
   "metadata": {},
   "outputs": [
    {
     "data": {
      "text/plain": [
       "int"
      ]
     },
     "execution_count": 13,
     "metadata": {},
     "output_type": "execute_result"
    }
   ],
   "source": [
    "type(total_uang)"
   ]
  },
  {
   "cell_type": "code",
   "execution_count": 14,
   "id": "8d2f1645",
   "metadata": {},
   "outputs": [
    {
     "name": "stdout",
     "output_type": "stream",
     "text": [
      "Masukkan bilangan pertama 5\n",
      "Masukkan bilangan kedua 10\n",
      "Masukkan bilangan ketga 4\n",
      "Jumlah ketiga bilangan tersebut adalah 19.0\n"
     ]
    }
   ],
   "source": [
    "bilangan_pertama = input(\"Masukkan bilangan pertama \")\n",
    "bilangan_kedua = input(\"Masukkan bilangan kedua \")\n",
    "bilangan_ketiga = input(\"Masukkan bilangan ketga \")\n",
    "jumlah = float(bilangan_pertama) + float(bilangan_kedua) + float(bilangan_ketiga)\n",
    "print(\"Jumlah ketiga bilangan tersebut adalah \" + str(jumlah))"
   ]
  },
  {
   "cell_type": "code",
   "execution_count": 15,
   "id": "82ef584b",
   "metadata": {},
   "outputs": [
    {
     "name": "stdout",
     "output_type": "stream",
     "text": [
      "Masukkan bilangan pertama 15\n",
      "Masukkan bilangan kedua 5\n",
      "Selisih kedua bilangan tersebut adalah 10.0\n"
     ]
    }
   ],
   "source": [
    "bilangan_pertama = input(\"Masukkan bilangan pertama \")\n",
    "bilangan_kedua = input(\"Masukkan bilangan kedua \")\n",
    "jumlah = float(bilangan_pertama) - float(bilangan_kedua)\n",
    "print(\"Selisih kedua bilangan tersebut adalah \" + str(jumlah))"
   ]
  },
  {
   "cell_type": "code",
   "execution_count": 16,
   "id": "71e6c3a1",
   "metadata": {},
   "outputs": [
    {
     "name": "stdout",
     "output_type": "stream",
     "text": [
      "Masukkan bilangan pertama 5\n",
      "Masukkan bilangan kedua 10\n",
      "Selisih kedua bilangan tersebut adalah -5.0\n"
     ]
    }
   ],
   "source": [
    "bilangan_pertama = input('Masukkan bilangan pertama ')\n",
    "bilangan_kedua = input('Masukkan bilangan kedua ')\n",
    "jumlah = float(bilangan_pertama) - float(bilangan_kedua)\n",
    "print('Selisih kedua bilangan tersebut adalah ' + str(jumlah))"
   ]
  },
  {
   "cell_type": "code",
   "execution_count": 17,
   "id": "b064409c",
   "metadata": {},
   "outputs": [
    {
     "name": "stdout",
     "output_type": "stream",
     "text": [
      "Masukkan bilangan pertama 2\n",
      "Masukkan bilangan kedua 10\n",
      "Hasil perkalian kedua bilangan adalah 20.0\n"
     ]
    }
   ],
   "source": [
    "bilangan_pertama = input('Masukkan bilangan pertama ')\n",
    "bilangan_kedua = input('Masukkan bilangan kedua ')\n",
    "jumlah = float(bilangan_pertama) * float(bilangan_kedua)\n",
    "print('Hasil perkalian kedua bilangan adalah ' + str(jumlah))"
   ]
  },
  {
   "cell_type": "markdown",
   "id": "2365b15b",
   "metadata": {},
   "source": [
    "5.4 Formatted String"
   ]
  },
  {
   "cell_type": "code",
   "execution_count": 1,
   "id": "5b4db604",
   "metadata": {},
   "outputs": [],
   "source": [
    "nama = 'Valgan'\n",
    "pekerjaan = 'guru seni'\n",
    "institusi = 'SMP 2 Denpasar'\n",
    "hobi = 'nyanyi dan melukis'"
   ]
  },
  {
   "cell_type": "code",
   "execution_count": 2,
   "id": "12e1870a",
   "metadata": {},
   "outputs": [
    {
     "name": "stdout",
     "output_type": "stream",
     "text": [
      "Valgan adalah seorang guru seni di SMP 2 Denpasar dan memiliki hobi nyanyi dan melukis.\n"
     ]
    }
   ],
   "source": [
    "print(f'{nama} adalah seorang {pekerjaan} di {institusi} dan memiliki hobi {hobi}.')"
   ]
  },
  {
   "cell_type": "code",
   "execution_count": 3,
   "id": "10a0a594",
   "metadata": {},
   "outputs": [],
   "source": [
    "nama = 'Ananta'\n",
    "asal = 'Bali'\n",
    "pekerjaan = 'mahasiswa'\n",
    "universitas = 'Universitas Udayana'\n",
    "fakultas = 'MIPA'\n",
    "prodi = 'matematika'"
   ]
  },
  {
   "cell_type": "code",
   "execution_count": 4,
   "id": "23f252fb",
   "metadata": {},
   "outputs": [
    {
     "name": "stdout",
     "output_type": "stream",
     "text": [
      "Perkenalkan saya Ananta berasal dari Bali. Saya merupakan mahasiswa dari Universitas Udayana fakultas MIPA dari prodi matematika.\n"
     ]
    }
   ],
   "source": [
    "print(f'Perkenalkan saya {nama} berasal dari {asal}. Saya merupakan {pekerjaan} dari {universitas} fakultas {fakultas} dari prodi {prodi}.')"
   ]
  },
  {
   "cell_type": "markdown",
   "id": "50fc8903",
   "metadata": {},
   "source": [
    "5.5 Strings Index"
   ]
  },
  {
   "cell_type": "code",
   "execution_count": 5,
   "id": "225f843f",
   "metadata": {},
   "outputs": [],
   "source": [
    "judul = 'Perjalananmu yang Sia-Sia'"
   ]
  },
  {
   "cell_type": "code",
   "execution_count": 6,
   "id": "7e3a1ff0",
   "metadata": {},
   "outputs": [
    {
     "name": "stdout",
     "output_type": "stream",
     "text": [
      "Perjalanan\n"
     ]
    }
   ],
   "source": [
    "print(judul[0:10])"
   ]
  },
  {
   "cell_type": "code",
   "execution_count": 7,
   "id": "b08c3bc5",
   "metadata": {},
   "outputs": [
    {
     "name": "stdout",
     "output_type": "stream",
     "text": [
      "ia\n"
     ]
    }
   ],
   "source": [
    "print(judul[19:21])"
   ]
  },
  {
   "cell_type": "code",
   "execution_count": 8,
   "id": "462938aa",
   "metadata": {},
   "outputs": [
    {
     "name": "stdout",
     "output_type": "stream",
     "text": [
      "yang\n"
     ]
    }
   ],
   "source": [
    "print(judul[13:17])"
   ]
  },
  {
   "cell_type": "code",
   "execution_count": 9,
   "id": "6fbc07ae",
   "metadata": {},
   "outputs": [
    {
     "name": "stdout",
     "output_type": "stream",
     "text": [
      "Sia-Sia\n"
     ]
    }
   ],
   "source": [
    "print(judul[18:25])"
   ]
  },
  {
   "cell_type": "code",
   "execution_count": 10,
   "id": "50f9ddde",
   "metadata": {},
   "outputs": [
    {
     "name": "stdout",
     "output_type": "stream",
     "text": [
      "Perjalananmu yang Sia-Sia\n"
     ]
    }
   ],
   "source": [
    "print(judul[:])"
   ]
  },
  {
   "cell_type": "markdown",
   "id": "ceefc0d2",
   "metadata": {},
   "source": [
    "5.6 Strings Methods"
   ]
  },
  {
   "cell_type": "code",
   "execution_count": 11,
   "id": "2b9b049c",
   "metadata": {},
   "outputs": [],
   "source": [
    "judul = \"Waktu Cepat Berlalu\""
   ]
  },
  {
   "cell_type": "code",
   "execution_count": 12,
   "id": "244abe57",
   "metadata": {},
   "outputs": [
    {
     "name": "stdout",
     "output_type": "stream",
     "text": [
      "19\n"
     ]
    }
   ],
   "source": [
    "print(len(judul))"
   ]
  },
  {
   "cell_type": "code",
   "execution_count": 13,
   "id": "2a2454cc",
   "metadata": {},
   "outputs": [
    {
     "data": {
      "text/plain": [
       "'WAKTU CEPAT BERLALU'"
      ]
     },
     "execution_count": 13,
     "metadata": {},
     "output_type": "execute_result"
    }
   ],
   "source": [
    "judul.upper()"
   ]
  },
  {
   "cell_type": "code",
   "execution_count": 14,
   "id": "a6fcfa39",
   "metadata": {},
   "outputs": [
    {
     "data": {
      "text/plain": [
       "'waktu cepat berlalu'"
      ]
     },
     "execution_count": 14,
     "metadata": {},
     "output_type": "execute_result"
    }
   ],
   "source": [
    "judul.lower()"
   ]
  },
  {
   "cell_type": "code",
   "execution_count": 15,
   "id": "818b4b0c",
   "metadata": {},
   "outputs": [
    {
     "data": {
      "text/plain": [
       "-1"
      ]
     },
     "execution_count": 15,
     "metadata": {},
     "output_type": "execute_result"
    }
   ],
   "source": [
    "judul.find('cepat')"
   ]
  },
  {
   "cell_type": "code",
   "execution_count": 16,
   "id": "d11873a2",
   "metadata": {},
   "outputs": [
    {
     "data": {
      "text/plain": [
       "12"
      ]
     },
     "execution_count": 16,
     "metadata": {},
     "output_type": "execute_result"
    }
   ],
   "source": [
    "judul.find(\"Berlalu\")"
   ]
  },
  {
   "cell_type": "code",
   "execution_count": 17,
   "id": "8000a1fb",
   "metadata": {},
   "outputs": [
    {
     "data": {
      "text/plain": [
       "'Masa Cepat Berlalu'"
      ]
     },
     "execution_count": 17,
     "metadata": {},
     "output_type": "execute_result"
    }
   ],
   "source": [
    "judul.replace('Waktu', 'Masa')"
   ]
  },
  {
   "cell_type": "code",
   "execution_count": 18,
   "id": "84fbe72c",
   "metadata": {},
   "outputs": [
    {
     "name": "stdout",
     "output_type": "stream",
     "text": [
      "True\n"
     ]
    }
   ],
   "source": [
    "print('Cepat' in judul)"
   ]
  },
  {
   "cell_type": "code",
   "execution_count": 19,
   "id": "c6756b5d",
   "metadata": {},
   "outputs": [
    {
     "name": "stdout",
     "output_type": "stream",
     "text": [
      "False\n"
     ]
    }
   ],
   "source": [
    "print(\"Masa\" in judul)"
   ]
  },
  {
   "cell_type": "markdown",
   "id": "fdb76002",
   "metadata": {},
   "source": [
    "5.7 Operasi Matematika di Python"
   ]
  },
  {
   "cell_type": "code",
   "execution_count": 20,
   "id": "13f794ed",
   "metadata": {},
   "outputs": [
    {
     "name": "stdout",
     "output_type": "stream",
     "text": [
      "10\n"
     ]
    }
   ],
   "source": [
    "print(5+5)"
   ]
  },
  {
   "cell_type": "code",
   "execution_count": 21,
   "id": "b2ff05cf",
   "metadata": {},
   "outputs": [
    {
     "name": "stdout",
     "output_type": "stream",
     "text": [
      "6.5\n"
     ]
    }
   ],
   "source": [
    "print(5.5+1)"
   ]
  },
  {
   "cell_type": "code",
   "execution_count": 22,
   "id": "34906565",
   "metadata": {},
   "outputs": [
    {
     "name": "stdout",
     "output_type": "stream",
     "text": [
      "-5\n"
     ]
    }
   ],
   "source": [
    "print(4-9)"
   ]
  },
  {
   "cell_type": "code",
   "execution_count": 23,
   "id": "9f72ea28",
   "metadata": {},
   "outputs": [
    {
     "name": "stdout",
     "output_type": "stream",
     "text": [
      "25.0\n"
     ]
    }
   ],
   "source": [
    "print(2.5*10)"
   ]
  },
  {
   "cell_type": "code",
   "execution_count": 24,
   "id": "e34a0763",
   "metadata": {},
   "outputs": [
    {
     "name": "stdout",
     "output_type": "stream",
     "text": [
      "3.3333333333333335\n"
     ]
    }
   ],
   "source": [
    "print(10/3)"
   ]
  },
  {
   "cell_type": "code",
   "execution_count": 25,
   "id": "5b0af91e",
   "metadata": {},
   "outputs": [
    {
     "name": "stdout",
     "output_type": "stream",
     "text": [
      "3\n"
     ]
    }
   ],
   "source": [
    "print(10//3)"
   ]
  },
  {
   "cell_type": "code",
   "execution_count": 26,
   "id": "a4095e8b",
   "metadata": {},
   "outputs": [
    {
     "name": "stdout",
     "output_type": "stream",
     "text": [
      "4\n"
     ]
    }
   ],
   "source": [
    "print(9%5)"
   ]
  },
  {
   "cell_type": "code",
   "execution_count": 27,
   "id": "5b212d03",
   "metadata": {},
   "outputs": [
    {
     "name": "stdout",
     "output_type": "stream",
     "text": [
      "0.5\n"
     ]
    }
   ],
   "source": [
    "print(2**-1)"
   ]
  },
  {
   "cell_type": "markdown",
   "id": "ae2fc32b",
   "metadata": {},
   "source": [
    "5.8 Operator Perbandingan di Python"
   ]
  },
  {
   "cell_type": "code",
   "execution_count": 28,
   "id": "b97b85b4",
   "metadata": {},
   "outputs": [
    {
     "name": "stdout",
     "output_type": "stream",
     "text": [
      "True\n"
     ]
    }
   ],
   "source": [
    "x = 5>1\n",
    "print(x)"
   ]
  },
  {
   "cell_type": "code",
   "execution_count": 29,
   "id": "c2682545",
   "metadata": {},
   "outputs": [
    {
     "name": "stdout",
     "output_type": "stream",
     "text": [
      "False\n"
     ]
    }
   ],
   "source": [
    "x = 5<1\n",
    "print(x)"
   ]
  },
  {
   "cell_type": "code",
   "execution_count": 30,
   "id": "5b476831",
   "metadata": {},
   "outputs": [
    {
     "name": "stdout",
     "output_type": "stream",
     "text": [
      "True\n"
     ]
    }
   ],
   "source": [
    "x = 0 >= -9\n",
    "print(x)"
   ]
  },
  {
   "cell_type": "code",
   "execution_count": 31,
   "id": "e899b3af",
   "metadata": {},
   "outputs": [
    {
     "name": "stdout",
     "output_type": "stream",
     "text": [
      "True\n"
     ]
    }
   ],
   "source": [
    "x = 1 != 6\n",
    "print(x)"
   ]
  },
  {
   "cell_type": "code",
   "execution_count": 32,
   "id": "28a5f7e3",
   "metadata": {},
   "outputs": [
    {
     "name": "stdout",
     "output_type": "stream",
     "text": [
      "False\n"
     ]
    }
   ],
   "source": [
    "x = 1 != 1\n",
    "print(x)"
   ]
  },
  {
   "cell_type": "code",
   "execution_count": 33,
   "id": "100b5247",
   "metadata": {},
   "outputs": [
    {
     "name": "stdout",
     "output_type": "stream",
     "text": [
      "True\n"
     ]
    }
   ],
   "source": [
    "x = 1==1\n",
    "print(x)"
   ]
  },
  {
   "cell_type": "code",
   "execution_count": 34,
   "id": "ea51130c",
   "metadata": {},
   "outputs": [
    {
     "name": "stdout",
     "output_type": "stream",
     "text": [
      "True\n"
     ]
    }
   ],
   "source": [
    "x = 4<9\n",
    "print(x)"
   ]
  },
  {
   "cell_type": "markdown",
   "id": "9ccbe0cc",
   "metadata": {},
   "source": [
    "5.9 Operator Logika di Python"
   ]
  },
  {
   "cell_type": "code",
   "execution_count": 35,
   "id": "391896ac",
   "metadata": {},
   "outputs": [
    {
     "name": "stdout",
     "output_type": "stream",
     "text": [
      "True\n"
     ]
    }
   ],
   "source": [
    "pensil = 4\n",
    "pulpen = 10\n",
    "print(pensil > 1 and pulpen < 11)"
   ]
  },
  {
   "cell_type": "code",
   "execution_count": 36,
   "id": "64cea3fa",
   "metadata": {},
   "outputs": [
    {
     "name": "stdout",
     "output_type": "stream",
     "text": [
      "False\n"
     ]
    }
   ],
   "source": [
    "print(pensil > 3 and pulpen > 13)"
   ]
  },
  {
   "cell_type": "code",
   "execution_count": 37,
   "id": "dd7d8a56",
   "metadata": {},
   "outputs": [
    {
     "name": "stdout",
     "output_type": "stream",
     "text": [
      "True\n"
     ]
    }
   ],
   "source": [
    "print(pensil < 4 or pulpen > 9)"
   ]
  },
  {
   "cell_type": "code",
   "execution_count": 38,
   "id": "dc2204b8",
   "metadata": {},
   "outputs": [
    {
     "name": "stdout",
     "output_type": "stream",
     "text": [
      "True\n"
     ]
    }
   ],
   "source": [
    "print(pensil < 3 or pulpen > 7)"
   ]
  },
  {
   "cell_type": "markdown",
   "id": "feee2b08",
   "metadata": {},
   "source": [
    "5.10 Operator if di Python"
   ]
  },
  {
   "cell_type": "code",
   "execution_count": 39,
   "id": "856a7e56",
   "metadata": {},
   "outputs": [
    {
     "name": "stdout",
     "output_type": "stream",
     "text": [
      "Nilai Anda adalah 86\n",
      "Anda mendapatkan nilai A\n",
      "Selamat, nilai Anda sangat baik\n"
     ]
    }
   ],
   "source": [
    "nilai = float(input(\"Nilai Anda adalah \"))\n",
    "if nilai >= 86:\n",
    "    print(\"Anda mendapatkan nilai A\")\n",
    "    print(\"Selamat, nilai Anda sangat baik\")"
   ]
  },
  {
   "cell_type": "code",
   "execution_count": 40,
   "id": "c684788c",
   "metadata": {},
   "outputs": [
    {
     "name": "stdout",
     "output_type": "stream",
     "text": [
      "Nilai Anda adalah 61\n"
     ]
    }
   ],
   "source": [
    "nilai = float(input(\"Nilai Anda adalah \"))\n",
    "if nilai <= 60:\n",
    "    print(\"Anda mendapatkan nilai D\")\n",
    "    print(\"Nilai Anda kurang baik, mohon ditingkatkan\")"
   ]
  },
  {
   "cell_type": "code",
   "execution_count": 41,
   "id": "40e5a09c",
   "metadata": {},
   "outputs": [
    {
     "name": "stdout",
     "output_type": "stream",
     "text": [
      "Nilai kuis Anda adalah 65\n",
      "Anda mendapatkan nilai C\n",
      "Nilai Anda cukup, bisa ditingkatkan lagi\n"
     ]
    }
   ],
   "source": [
    "nilai = float(input(\"Nilai kuis Anda adalah \"))\n",
    "if nilai >=60 and nilai <=70:\n",
    "    print(\"Anda mendapatkan nilai C\")\n",
    "    print(\"Nilai Anda cukup, bisa ditingkatkan lagi\")"
   ]
  },
  {
   "cell_type": "code",
   "execution_count": 42,
   "id": "d6ab92ed",
   "metadata": {},
   "outputs": [
    {
     "name": "stdout",
     "output_type": "stream",
     "text": [
      "Berapakah berat badan Anda? 54\n",
      "Berat dalam kg atau g? kg\n"
     ]
    }
   ],
   "source": [
    "berat = float(input(\"Berapakah berat badan Anda? \"))\n",
    "kg_atau_g = input(\"Berat dalam kg atau g? \")"
   ]
  },
  {
   "cell_type": "code",
   "execution_count": 43,
   "id": "46506e77",
   "metadata": {},
   "outputs": [
    {
     "name": "stdout",
     "output_type": "stream",
     "text": [
      "Berapakah berat badan Anda? 54\n",
      "Berat dalam kg atau g? kg\n",
      "Berat Anda adalah 54000.0g.\n"
     ]
    }
   ],
   "source": [
    "berat = float(input('Berapakah berat badan Anda? '))\n",
    "kg_atau_g = input('Berat dalam kg atau g? ')\n",
    "if kg_atau_g.upper() == 'KG':\n",
    "    berat = berat*1000\n",
    "    print(\"Berat Anda adalah \" + str(berat) + \"g.\")\n",
    "elif kg_atau_g.upper() == 'G':\n",
    "    berat = berat/1000\n",
    "    print(\"Berat Anda adalah \" + str(berat) + \"kg.\")"
   ]
  },
  {
   "cell_type": "markdown",
   "id": "414fde80",
   "metadata": {},
   "source": [
    "5.11 While loop"
   ]
  },
  {
   "cell_type": "code",
   "execution_count": 44,
   "id": "d962a2e8",
   "metadata": {},
   "outputs": [
    {
     "name": "stdout",
     "output_type": "stream",
     "text": [
      "Angka 0 masih dibawah 5\n",
      "Angka 1 masih dibawah 5\n",
      "Angka 2 masih dibawah 5\n",
      "Angka 3 masih dibawah 5\n",
      "Angka 4 masih dibawah 5\n"
     ]
    }
   ],
   "source": [
    "a = 0\n",
    "while a < 5:\n",
    "    print(\"Angka \" + str(a)+\" masih dibawah 5\")\n",
    "    a += 1"
   ]
  },
  {
   "cell_type": "code",
   "execution_count": 45,
   "id": "358e55f5",
   "metadata": {},
   "outputs": [
    {
     "name": "stdout",
     "output_type": "stream",
     "text": [
      "Angka 0 masih dibawah 20\n",
      "Angka 2 masih dibawah 20\n",
      "Angka 4 masih dibawah 20\n",
      "Angka 6 masih dibawah 20\n",
      "Angka 8 masih dibawah 20\n",
      "Angka 10 masih dibawah 20\n",
      "Angka 12 masih dibawah 20\n",
      "Angka 14 masih dibawah 20\n",
      "Angka 16 masih dibawah 20\n",
      "Angka 18 masih dibawah 20\n"
     ]
    }
   ],
   "source": [
    "a = 0\n",
    "while a < 20:\n",
    "    print(\"Angka \" + str(a) + \" masih dibawah 20\")\n",
    "    a += 2"
   ]
  },
  {
   "cell_type": "code",
   "execution_count": 46,
   "id": "c51a4bab",
   "metadata": {},
   "outputs": [
    {
     "name": "stdout",
     "output_type": "stream",
     "text": [
      "o\n",
      "oo\n",
      "ooo\n"
     ]
    }
   ],
   "source": [
    "a = 1\n",
    "while a < 4:\n",
    "    print(a * \"o\")\n",
    "    a += 1"
   ]
  },
  {
   "cell_type": "code",
   "execution_count": null,
   "id": "34d7c127",
   "metadata": {},
   "outputs": [],
   "source": []
  }
 ],
 "metadata": {
  "kernelspec": {
   "display_name": "Python 3 (ipykernel)",
   "language": "python",
   "name": "python3"
  },
  "language_info": {
   "codemirror_mode": {
    "name": "ipython",
    "version": 3
   },
   "file_extension": ".py",
   "mimetype": "text/x-python",
   "name": "python",
   "nbconvert_exporter": "python",
   "pygments_lexer": "ipython3",
   "version": "3.9.7"
  }
 },
 "nbformat": 4,
 "nbformat_minor": 5
}
