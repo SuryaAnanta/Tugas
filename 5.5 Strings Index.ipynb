{
 "cells": [
  {
   "cell_type": "code",
   "execution_count": 1,
   "id": "93d0704a",
   "metadata": {},
   "outputs": [],
   "source": [
    "judul = 'Perjalananmu yang Sia-Sia'"
   ]
  },
  {
   "cell_type": "code",
   "execution_count": 2,
   "id": "3249d21a",
   "metadata": {},
   "outputs": [
    {
     "name": "stdout",
     "output_type": "stream",
     "text": [
      "Perjalanan\n"
     ]
    }
   ],
   "source": [
    "print(judul[0:10])"
   ]
  },
  {
   "cell_type": "code",
   "execution_count": 3,
   "id": "c8044bab",
   "metadata": {},
   "outputs": [
    {
     "name": "stdout",
     "output_type": "stream",
     "text": [
      "ia\n"
     ]
    }
   ],
   "source": [
    "print(judul[19:21])"
   ]
  },
  {
   "cell_type": "code",
   "execution_count": 4,
   "id": "705bdaa2",
   "metadata": {},
   "outputs": [
    {
     "name": "stdout",
     "output_type": "stream",
     "text": [
      "yang\n"
     ]
    }
   ],
   "source": [
    "print(judul[13:17])"
   ]
  },
  {
   "cell_type": "code",
   "execution_count": 5,
   "id": "1696c973",
   "metadata": {},
   "outputs": [
    {
     "name": "stdout",
     "output_type": "stream",
     "text": [
      "Sia-Sia\n"
     ]
    }
   ],
   "source": [
    "print(judul[18:25])"
   ]
  },
  {
   "cell_type": "code",
   "execution_count": 6,
   "id": "393f0e79",
   "metadata": {},
   "outputs": [
    {
     "name": "stdout",
     "output_type": "stream",
     "text": [
      "Perjalananmu yang Sia-Sia\n"
     ]
    }
   ],
   "source": [
    "print(judul[:])"
   ]
  }
 ],
 "metadata": {
  "kernelspec": {
   "display_name": "Python 3 (ipykernel)",
   "language": "python",
   "name": "python3"
  },
  "language_info": {
   "codemirror_mode": {
    "name": "ipython",
    "version": 3
   },
   "file_extension": ".py",
   "mimetype": "text/x-python",
   "name": "python",
   "nbconvert_exporter": "python",
   "pygments_lexer": "ipython3",
   "version": "3.9.7"
  }
 },
 "nbformat": 4,
 "nbformat_minor": 5
}
