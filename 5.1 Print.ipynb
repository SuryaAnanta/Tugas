{
 "cells": [
  {
   "cell_type": "code",
   "execution_count": 1,
   "id": "3461c13b",
   "metadata": {},
   "outputs": [
    {
     "name": "stdout",
     "output_type": "stream",
     "text": [
      "Saya sedang belajar Algoritma\n"
     ]
    }
   ],
   "source": [
    "print(\"Saya sedang belajar Algoritma\")"
   ]
  },
  {
   "cell_type": "code",
   "execution_count": 2,
   "id": "81ce6e7b",
   "metadata": {},
   "outputs": [
    {
     "name": "stdout",
     "output_type": "stream",
     "text": [
      "Saya sedang belajar jupyter notebook\n"
     ]
    }
   ],
   "source": [
    "print('Saya sedang belajar jupyter notebook')"
   ]
  },
  {
   "cell_type": "code",
   "execution_count": 3,
   "id": "417cd580",
   "metadata": {},
   "outputs": [
    {
     "name": "stdout",
     "output_type": "stream",
     "text": [
      "I can't speak japanese\n"
     ]
    }
   ],
   "source": [
    "print(\"I can't speak japanese\")"
   ]
  },
  {
   "cell_type": "code",
   "execution_count": 4,
   "id": "a6a3d729",
   "metadata": {},
   "outputs": [
    {
     "name": "stdout",
     "output_type": "stream",
     "text": [
      "Ananta berkata, \"Kamu sedang apa ta?\"\n"
     ]
    }
   ],
   "source": [
    "print('Ananta berkata, \"Kamu sedang apa ta?\"')"
   ]
  },
  {
   "cell_type": "code",
   "execution_count": 6,
   "id": "16e11336",
   "metadata": {},
   "outputs": [
    {
     "name": "stdout",
     "output_type": "stream",
     "text": [
      "7\n",
      "20000\n",
      "5000\n"
     ]
    }
   ],
   "source": [
    "mahasiswa = 7\n",
    "uang_di_dompet = 20000\n",
    "uang_di_saku = 5000\n",
    "print(mahasiswa)\n",
    "print(uang_di_dompet)\n",
    "print(uang_di_saku)"
   ]
  },
  {
   "cell_type": "code",
   "execution_count": 7,
   "id": "0c02d2a0",
   "metadata": {},
   "outputs": [
    {
     "name": "stdout",
     "output_type": "stream",
     "text": [
      "Surya Ananta Jelai\n"
     ]
    }
   ],
   "source": [
    "nama_depan = \"Surya \"\n",
    "nama_tengah = \"Ananta \"\n",
    "nama_belakang = \"Jelai\"\n",
    "print(nama_depan + nama_tengah + nama_belakang)"
   ]
  }
 ],
 "metadata": {
  "kernelspec": {
   "display_name": "Python 3 (ipykernel)",
   "language": "python",
   "name": "python3"
  },
  "language_info": {
   "codemirror_mode": {
    "name": "ipython",
    "version": 3
   },
   "file_extension": ".py",
   "mimetype": "text/x-python",
   "name": "python",
   "nbconvert_exporter": "python",
   "pygments_lexer": "ipython3",
   "version": "3.9.7"
  }
 },
 "nbformat": 4,
 "nbformat_minor": 5
}
