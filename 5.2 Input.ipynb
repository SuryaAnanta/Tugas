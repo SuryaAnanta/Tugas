{
 "cells": [
  {
   "cell_type": "code",
   "execution_count": 1,
   "id": "801dac40",
   "metadata": {},
   "outputs": [
    {
     "name": "stdout",
     "output_type": "stream",
     "text": [
      "Siapakah nama Anda? Ananta\n",
      "Apa kegiatan yang Anda lakukan sekarang? belajar\n",
      "Semangat terus belajar nya, Ananta!\n"
     ]
    }
   ],
   "source": [
    "nama = input(\"Siapakah nama Anda? \")\n",
    "kegiatan = input(\"Apa kegiatan yang Anda lakukan sekarang? \")\n",
    "print(\"Semangat terus \" + kegiatan + \" nya, \" + nama + \"!\")"
   ]
  },
  {
   "cell_type": "code",
   "execution_count": 2,
   "id": "89ade6b0",
   "metadata": {},
   "outputs": [
    {
     "name": "stdout",
     "output_type": "stream",
     "text": [
      "Berapa umur Anda sekarang? 18\n",
      "Siapa nama Anda? Ananta\n",
      "Selamat Ulang Tahun Ananta yang ke 18, sehat selalu ya\n"
     ]
    }
   ],
   "source": [
    "umur = input(\"Berapa umur Anda sekarang? \")\n",
    "nama = input(\"Siapa nama Anda? \")\n",
    "print(\"Selamat Ulang Tahun \" + nama + \" yang ke \" + umur + \", sehat selalu ya\")"
   ]
  },
  {
   "cell_type": "code",
   "execution_count": null,
   "id": "f640196e",
   "metadata": {},
   "outputs": [],
   "source": [
    "nama_pengirim = input(\"Siapakah nama pengirimnya? \")\n",
    "nama_penerima = input(\"Siapakah nama penerimanya?\" )\n"
   ]
  },
  {
   "cell_type": "code",
   "execution_count": null,
   "id": "ebb6acd5",
   "metadata": {},
   "outputs": [],
   "source": []
  }
 ],
 "metadata": {
  "kernelspec": {
   "display_name": "Python 3 (ipykernel)",
   "language": "python",
   "name": "python3"
  },
  "language_info": {
   "codemirror_mode": {
    "name": "ipython",
    "version": 3
   },
   "file_extension": ".py",
   "mimetype": "text/x-python",
   "name": "python",
   "nbconvert_exporter": "python",
   "pygments_lexer": "ipython3",
   "version": "3.9.7"
  }
 },
 "nbformat": 4,
 "nbformat_minor": 5
}
