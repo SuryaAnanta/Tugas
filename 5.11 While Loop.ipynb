{
 "cells": [
  {
   "cell_type": "code",
   "execution_count": 1,
   "id": "19d5a6cb",
   "metadata": {},
   "outputs": [
    {
     "name": "stdout",
     "output_type": "stream",
     "text": [
      "Angka 0 masih dibawah 5\n",
      "Angka 1 masih dibawah 5\n",
      "Angka 2 masih dibawah 5\n",
      "Angka 3 masih dibawah 5\n",
      "Angka 4 masih dibawah 5\n"
     ]
    }
   ],
   "source": [
    "a = 0\n",
    "while a < 5:\n",
    "    print(\"Angka \" + str(a)+\" masih dibawah 5\")\n",
    "    a += 1"
   ]
  },
  {
   "cell_type": "code",
   "execution_count": 1,
   "id": "8314aabf",
   "metadata": {},
   "outputs": [
    {
     "name": "stdout",
     "output_type": "stream",
     "text": [
      "Angka 0 masih dibawah 20\n",
      "Angka 2 masih dibawah 20\n",
      "Angka 4 masih dibawah 20\n",
      "Angka 6 masih dibawah 20\n",
      "Angka 8 masih dibawah 20\n",
      "Angka 10 masih dibawah 20\n",
      "Angka 12 masih dibawah 20\n",
      "Angka 14 masih dibawah 20\n",
      "Angka 16 masih dibawah 20\n",
      "Angka 18 masih dibawah 20\n"
     ]
    }
   ],
   "source": [
    "a = 0\n",
    "while a < 20:\n",
    "    print(\"Angka \" + str(a) + \" masih dibawah 20\")\n",
    "    a += 2"
   ]
  },
  {
   "cell_type": "code",
   "execution_count": 2,
   "id": "53639849",
   "metadata": {},
   "outputs": [
    {
     "name": "stdout",
     "output_type": "stream",
     "text": [
      "o\n",
      "oo\n",
      "ooo\n"
     ]
    }
   ],
   "source": [
    "a = 1\n",
    "while a < 4:\n",
    "    print(a * \"o\")\n",
    "    a += 1"
   ]
  },
  {
   "cell_type": "code",
   "execution_count": null,
   "id": "220f3cc0",
   "metadata": {},
   "outputs": [],
   "source": []
  }
 ],
 "metadata": {
  "kernelspec": {
   "display_name": "Python 3 (ipykernel)",
   "language": "python",
   "name": "python3"
  },
  "language_info": {
   "codemirror_mode": {
    "name": "ipython",
    "version": 3
   },
   "file_extension": ".py",
   "mimetype": "text/x-python",
   "name": "python",
   "nbconvert_exporter": "python",
   "pygments_lexer": "ipython3",
   "version": "3.9.7"
  }
 },
 "nbformat": 4,
 "nbformat_minor": 5
}
