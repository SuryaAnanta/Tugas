{
 "cells": [
  {
   "cell_type": "code",
   "execution_count": 1,
   "id": "b0f12b91",
   "metadata": {},
   "outputs": [
    {
     "name": "stdout",
     "output_type": "stream",
     "text": [
      "True\n"
     ]
    }
   ],
   "source": [
    "pensil = 4\n",
    "pulpen = 10\n",
    "print(pensil > 1 and pulpen < 11)"
   ]
  },
  {
   "cell_type": "code",
   "execution_count": 2,
   "id": "d5c8b81e",
   "metadata": {},
   "outputs": [
    {
     "name": "stdout",
     "output_type": "stream",
     "text": [
      "False\n"
     ]
    }
   ],
   "source": [
    "print(pensil > 3 and pulpen > 13)"
   ]
  },
  {
   "cell_type": "code",
   "execution_count": 3,
   "id": "292ed5e2",
   "metadata": {},
   "outputs": [
    {
     "name": "stdout",
     "output_type": "stream",
     "text": [
      "True\n"
     ]
    }
   ],
   "source": [
    "print(pensil < 4 or pulpen > 9)"
   ]
  },
  {
   "cell_type": "code",
   "execution_count": 5,
   "id": "0220ed03",
   "metadata": {},
   "outputs": [
    {
     "name": "stdout",
     "output_type": "stream",
     "text": [
      "True\n"
     ]
    }
   ],
   "source": [
    "print(pensil < 3 or pulpen > 7)"
   ]
  }
 ],
 "metadata": {
  "kernelspec": {
   "display_name": "Python 3 (ipykernel)",
   "language": "python",
   "name": "python3"
  },
  "language_info": {
   "codemirror_mode": {
    "name": "ipython",
    "version": 3
   },
   "file_extension": ".py",
   "mimetype": "text/x-python",
   "name": "python",
   "nbconvert_exporter": "python",
   "pygments_lexer": "ipython3",
   "version": "3.9.7"
  }
 },
 "nbformat": 4,
 "nbformat_minor": 5
}
