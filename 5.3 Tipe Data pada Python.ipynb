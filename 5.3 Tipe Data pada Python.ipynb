{
 "cells": [
  {
   "cell_type": "code",
   "execution_count": 1,
   "id": "f70e382c",
   "metadata": {},
   "outputs": [
    {
     "name": "stdout",
     "output_type": "stream",
     "text": [
      "Berapakah jumlah uang di saku Anda? 10000\n",
      "Berapakah jumlah uang di dompet Anda? 15000\n",
      "Berapakah jumlah uang di bank? 50000\n",
      "Total uang Anda adalah Rp75000\n"
     ]
    }
   ],
   "source": [
    "uang_di_saku = input(\"Berapakah jumlah uang di saku Anda? \")\n",
    "uang_di_dompet = input(\"Berapakah jumlah uang di dompet Anda? \")\n",
    "uang_di_bank = input(\"Berapakah jumlah uang di bank? \")\n",
    "total_uang = int(uang_di_saku) + int(uang_di_dompet) + int(uang_di_bank)\n",
    "print(\"Total uang Anda adalah Rp\" + str(total_uang))"
   ]
  },
  {
   "cell_type": "code",
   "execution_count": 2,
   "id": "36a28888",
   "metadata": {},
   "outputs": [
    {
     "data": {
      "text/plain": [
       "str"
      ]
     },
     "execution_count": 2,
     "metadata": {},
     "output_type": "execute_result"
    }
   ],
   "source": [
    "type(uang_di_saku)"
   ]
  },
  {
   "cell_type": "code",
   "execution_count": 3,
   "id": "d420d29c",
   "metadata": {},
   "outputs": [
    {
     "data": {
      "text/plain": [
       "str"
      ]
     },
     "execution_count": 3,
     "metadata": {},
     "output_type": "execute_result"
    }
   ],
   "source": [
    "type(uang_di_dompet)"
   ]
  },
  {
   "cell_type": "code",
   "execution_count": 4,
   "id": "202b35f2",
   "metadata": {},
   "outputs": [
    {
     "data": {
      "text/plain": [
       "str"
      ]
     },
     "execution_count": 4,
     "metadata": {},
     "output_type": "execute_result"
    }
   ],
   "source": [
    "type(uang_di_bank)"
   ]
  },
  {
   "cell_type": "code",
   "execution_count": 5,
   "id": "5b1f2b86",
   "metadata": {},
   "outputs": [
    {
     "data": {
      "text/plain": [
       "int"
      ]
     },
     "execution_count": 5,
     "metadata": {},
     "output_type": "execute_result"
    }
   ],
   "source": [
    "type(total_uang)"
   ]
  },
  {
   "cell_type": "code",
   "execution_count": 8,
   "id": "d91bba78",
   "metadata": {},
   "outputs": [
    {
     "name": "stdout",
     "output_type": "stream",
     "text": [
      "Masukkan bilangan pertama 5\n",
      "Masukkan bilangan kedua 10\n",
      "Masukkan bilangan ketga 4\n",
      "Jumlah ketiga bilangan tersebut adalah 19.0\n"
     ]
    }
   ],
   "source": [
    "bilangan_pertama = input(\"Masukkan bilangan pertama \")\n",
    "bilangan_kedua = input(\"Masukkan bilangan kedua \")\n",
    "bilangan_ketiga = input(\"Masukkan bilangan ketga \")\n",
    "jumlah = float(bilangan_pertama) + float(bilangan_kedua) + float(bilangan_ketiga)\n",
    "print(\"Jumlah ketiga bilangan tersebut adalah \" + str(jumlah))"
   ]
  },
  {
   "cell_type": "code",
   "execution_count": 9,
   "id": "35c87d82",
   "metadata": {},
   "outputs": [
    {
     "name": "stdout",
     "output_type": "stream",
     "text": [
      "Masukkan bilangan pertama 15\n",
      "Masukkan bilangan kedua 5\n",
      "Selisih kedua bilangan tersebut adalah 10.0\n"
     ]
    }
   ],
   "source": [
    "bilangan_pertama = input(\"Masukkan bilangan pertama \")\n",
    "bilangan_kedua = input(\"Masukkan bilangan kedua \")\n",
    "jumlah = float(bilangan_pertama) - float(bilangan_kedua)\n",
    "print(\"Selisih kedua bilangan tersebut adalah \" + str(jumlah))"
   ]
  },
  {
   "cell_type": "code",
   "execution_count": 10,
   "id": "9dd0e3ae",
   "metadata": {},
   "outputs": [
    {
     "name": "stdout",
     "output_type": "stream",
     "text": [
      "Masukkan bilangan pertama 5\n",
      "Masukkan bilangan kedua 10\n",
      "Selisih kedua bilangan tersebut adalah -5.0\n"
     ]
    }
   ],
   "source": [
    "bilangan_pertama = input('Masukkan bilangan pertama ')\n",
    "bilangan_kedua = input('Masukkan bilangan kedua ')\n",
    "jumlah = float(bilangan_pertama) - float(bilangan_kedua)\n",
    "print('Selisih kedua bilangan tersebut adalah ' + str(jumlah))"
   ]
  },
  {
   "cell_type": "code",
   "execution_count": 11,
   "id": "b070d42d",
   "metadata": {},
   "outputs": [
    {
     "name": "stdout",
     "output_type": "stream",
     "text": [
      "Masukkan bilangan pertama 2\n",
      "Masukkan bilangan kedua 10\n",
      "Hasil perkalian kedua bilangan adalah 20.0\n"
     ]
    }
   ],
   "source": [
    "bilangan_pertama = input('Masukkan bilangan pertama ')\n",
    "bilangan_kedua = input('Masukkan bilangan kedua ')\n",
    "jumlah = float(bilangan_pertama) * float(bilangan_kedua)\n",
    "print('Hasil perkalian kedua bilangan adalah ' + str(jumlah))"
   ]
  }
 ],
 "metadata": {
  "kernelspec": {
   "display_name": "Python 3 (ipykernel)",
   "language": "python",
   "name": "python3"
  },
  "language_info": {
   "codemirror_mode": {
    "name": "ipython",
    "version": 3
   },
   "file_extension": ".py",
   "mimetype": "text/x-python",
   "name": "python",
   "nbconvert_exporter": "python",
   "pygments_lexer": "ipython3",
   "version": "3.9.7"
  }
 },
 "nbformat": 4,
 "nbformat_minor": 5
}
