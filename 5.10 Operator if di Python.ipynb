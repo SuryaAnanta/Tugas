{
 "cells": [
  {
   "cell_type": "code",
   "execution_count": 2,
   "id": "17f5f906",
   "metadata": {},
   "outputs": [
    {
     "name": "stdout",
     "output_type": "stream",
     "text": [
      "Nilai Anda adalah 86\n",
      "Anda mendapatkan nilai A\n",
      "Selamat, nilai Anda sangat baik\n"
     ]
    }
   ],
   "source": [
    "nilai = float(input(\"Nilai Anda adalah \"))\n",
    "if nilai >= 86:\n",
    "    print(\"Anda mendapatkan nilai A\")\n",
    "    print(\"Selamat, nilai Anda sangat baik\")"
   ]
  },
  {
   "cell_type": "code",
   "execution_count": 3,
   "id": "aaa8d931",
   "metadata": {},
   "outputs": [
    {
     "name": "stdout",
     "output_type": "stream",
     "text": [
      "Nilai Anda adalah 61\n"
     ]
    }
   ],
   "source": [
    "nilai = float(input(\"Nilai Anda adalah \"))\n",
    "if nilai <= 60:\n",
    "    print(\"Anda mendapatkan nilai D\")\n",
    "    print(\"Nilai Anda kurang baik, mohon ditingkatkan\")"
   ]
  },
  {
   "cell_type": "code",
   "execution_count": 1,
   "id": "906d07c4",
   "metadata": {},
   "outputs": [
    {
     "name": "stdout",
     "output_type": "stream",
     "text": [
      "Nilai kuis Anda adalah 65\n",
      "Anda mendapatkan nilai C\n",
      "Nilai Anda cukup, bisa ditingkatkan lagi\n"
     ]
    }
   ],
   "source": [
    "nilai = float(input(\"Nilai kuis Anda adalah \"))\n",
    "if nilai >=60 and nilai <=70:\n",
    "    print(\"Anda mendapatkan nilai C\")\n",
    "    print(\"Nilai Anda cukup, bisa ditingkatkan lagi\")"
   ]
  },
  {
   "cell_type": "code",
   "execution_count": 2,
   "id": "11c78c0c",
   "metadata": {},
   "outputs": [
    {
     "name": "stdout",
     "output_type": "stream",
     "text": [
      "Berapakah berat badan Anda? 54\n",
      "Berat dalam kg atau g? kg\n"
     ]
    }
   ],
   "source": [
    "berat = float(input(\"Berapakah berat badan Anda? \"))\n",
    "kg_atau_g = input(\"Berat dalam kg atau g? \")"
   ]
  },
  {
   "cell_type": "code",
   "execution_count": 7,
   "id": "0bf754e0",
   "metadata": {},
   "outputs": [
    {
     "name": "stdout",
     "output_type": "stream",
     "text": [
      "Berapakah berat badan Anda? 54\n",
      "Berat dalam kg atau g? kg\n",
      "Berat Anda adalah 54000.0g.\n"
     ]
    }
   ],
   "source": [
    "berat = float(input('Berapakah berat badan Anda? '))\n",
    "kg_atau_g = input('Berat dalam kg atau g? ')\n",
    "if kg_atau_g.upper() == 'KG':\n",
    "    berat = berat*1000\n",
    "    print(\"Berat Anda adalah \" + str(berat) + \"g.\")\n",
    "elif kg_atau_g.upper() == 'G':\n",
    "    berat = berat/1000\n",
    "    print(\"Berat Anda adalah \" + str(berat) + \"kg.\")"
   ]
  },
  {
   "cell_type": "code",
   "execution_count": null,
   "id": "63df4195",
   "metadata": {},
   "outputs": [],
   "source": []
  }
 ],
 "metadata": {
  "kernelspec": {
   "display_name": "Python 3 (ipykernel)",
   "language": "python",
   "name": "python3"
  },
  "language_info": {
   "codemirror_mode": {
    "name": "ipython",
    "version": 3
   },
   "file_extension": ".py",
   "mimetype": "text/x-python",
   "name": "python",
   "nbconvert_exporter": "python",
   "pygments_lexer": "ipython3",
   "version": "3.9.7"
  }
 },
 "nbformat": 4,
 "nbformat_minor": 5
}
